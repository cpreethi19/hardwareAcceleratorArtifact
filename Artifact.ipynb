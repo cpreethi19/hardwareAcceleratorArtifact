{
  "nbformat": 4,
  "nbformat_minor": 0,
  "metadata": {
    "colab": {
      "provenance": [],
      "gpuType": "T4"
    },
    "kernelspec": {
      "name": "python3",
      "display_name": "Python 3"
    },
    "language_info": {
      "name": "python"
    },
    "accelerator": "GPU"
  },
  "cells": [
    {
      "cell_type": "code",
      "execution_count": 1,
      "metadata": {
        "colab": {
          "base_uri": "https://localhost:8080/"
        },
        "id": "uqKmdQ_tsyRS",
        "outputId": "7c66278d-468c-454c-b363-82ddc695bc94"
      },
      "outputs": [
        {
          "output_type": "stream",
          "name": "stdout",
          "text": [
            "Downloading data from https://storage.googleapis.com/tensorflow/tf-keras-datasets/mnist.npz\n",
            "11490434/11490434 [==============================] - 0s 0us/step\n",
            "Training on CPU...\n",
            "Epoch 1/5\n",
            "1875/1875 [==============================] - 18s 9ms/step - loss: 0.2918 - accuracy: 0.9146\n",
            "Epoch 2/5\n",
            "1875/1875 [==============================] - 10s 5ms/step - loss: 0.1400 - accuracy: 0.9584\n",
            "Epoch 3/5\n",
            "1875/1875 [==============================] - 10s 5ms/step - loss: 0.1026 - accuracy: 0.9690\n",
            "Epoch 4/5\n",
            "1875/1875 [==============================] - 8s 4ms/step - loss: 0.0855 - accuracy: 0.9741\n",
            "Epoch 5/5\n",
            "1875/1875 [==============================] - 10s 5ms/step - loss: 0.0731 - accuracy: 0.9769\n",
            "CPU Time: 58.303492307662964 seconds\n"
          ]
        }
      ],
      "source": [
        "import tensorflow as tf\n",
        "import time\n",
        "\n",
        "mnist = tf.keras.datasets.mnist\n",
        "(x_train, y_train), (x_test, y_test) = mnist.load_data()\n",
        "x_train, x_test = x_train / 255.0, x_test / 255.0\n",
        "\n",
        "def create_model():\n",
        "    model = tf.keras.models.Sequential([\n",
        "        tf.keras.layers.Flatten(input_shape=(28, 28)),\n",
        "        tf.keras.layers.Dense(128, activation='relu'),\n",
        "        tf.keras.layers.Dropout(0.2),\n",
        "        tf.keras.layers.Dense(10)\n",
        "    ])\n",
        "\n",
        "    model.compile(optimizer='adam',\n",
        "                  loss=tf.keras.losses.SparseCategoricalCrossentropy(from_logits=True),\n",
        "                  metrics=['accuracy'])\n",
        "    return model\n",
        "\n",
        "epochs = 5\n",
        "\n",
        "# Run on CPU\n",
        "print(\"Training on CPU...\")\n",
        "with tf.device('/CPU:0'):\n",
        "    cpu_model = create_model()\n",
        "    start_time = time.time()\n",
        "    cpu_model.fit(x_train, y_train, epochs=epochs)\n",
        "    cpu_time = time.time() - start_time\n",
        "    print(f\"CPU Time: {cpu_time} seconds\")\n",
        "\n"
      ]
    },
    {
      "cell_type": "code",
      "source": [
        "import tensorflow as tf\n",
        "import time\n",
        "\n",
        "mnist = tf.keras.datasets.mnist\n",
        "(x_train, y_train), (x_test, y_test) = mnist.load_data()\n",
        "x_train, x_test = x_train / 255.0, x_test / 255.0\n",
        "\n",
        "def create_model():\n",
        "    model = tf.keras.models.Sequential([\n",
        "        tf.keras.layers.Flatten(input_shape=(28, 28)),\n",
        "        tf.keras.layers.Dense(128, activation='relu'),\n",
        "        tf.keras.layers.Dropout(0.2),\n",
        "        tf.keras.layers.Dense(10)\n",
        "    ])\n",
        "\n",
        "    model.compile(optimizer='adam',\n",
        "                  loss=tf.keras.losses.SparseCategoricalCrossentropy(from_logits=True),\n",
        "                  metrics=['accuracy'])\n",
        "    return model\n",
        "\n",
        "epochs = 5\n",
        "# Run on GPU\n",
        "num_gpus_available = len(tf.config.list_physical_devices('GPU'))\n",
        "print(\"# of GPUs found:\", num_gpus_available)\n",
        "if num_gpus_available != 0:\n",
        "    print(\"Training on GPU...\")\n",
        "    with tf.device('/GPU:0'):\n",
        "        gpu_model = create_model()\n",
        "        start_time = time.time()\n",
        "        gpu_model.fit(x_train, y_train, epochs=epochs)\n",
        "        gpu_time = time.time() - start_time\n",
        "        print(f\"GPU Time: {gpu_time} seconds\")\n",
        "else:\n",
        "    print(\"GPU not available.\")\n",
        "\n",
        "try:\n",
        "    print(\"Training on TPU...\")\n",
        "#followed tutorial at https://colab.research.google.com/notebooks/tpu.ipynb#scrollTo=FpvUOuC3j27n\n",
        "    tpu_resolver = tf.distribute.cluster_resolver.TPUClusterResolver(tpu='')\n",
        "    tf.config.experimental_connect_to_cluster(tpu_resolver)\n",
        "    tf.tpu.experimental.initialize_tpu_system(tpu_resolver)\n",
        "    tpu_strategy = tf.distribute.experimental.TPUStrategy(tpu_resolver)\n",
        "    with tpu_strategy.scope():\n",
        "        tpu_model = create_model()\n",
        "        start_time = time.time()\n",
        "        tpu_model.fit(x_train, y_train, epochs=epochs)\n",
        "        tpu_time = time.time() - start_time\n",
        "        print(f\"TPU Time: {tpu_time} seconds\")\n",
        "except ValueError as e:\n",
        "    print(\"TPU not available: \", e)"
      ],
      "metadata": {
        "colab": {
          "base_uri": "https://localhost:8080/"
        },
        "id": "Ur2PiYyeeVyF",
        "outputId": "2eb0a912-b455-4260-e23c-c7429ff1663d"
      },
      "execution_count": 2,
      "outputs": [
        {
          "output_type": "stream",
          "name": "stdout",
          "text": [
            "# of GPUs found: 1\n",
            "Training on GPU...\n",
            "Epoch 1/5\n",
            "1875/1875 [==============================] - 6s 3ms/step - loss: 0.2968 - accuracy: 0.9142\n",
            "Epoch 2/5\n",
            "1875/1875 [==============================] - 5s 3ms/step - loss: 0.1424 - accuracy: 0.9581\n",
            "Epoch 3/5\n",
            "1875/1875 [==============================] - 6s 3ms/step - loss: 0.1058 - accuracy: 0.9676\n",
            "Epoch 4/5\n",
            "1875/1875 [==============================] - 5s 3ms/step - loss: 0.0857 - accuracy: 0.9735\n",
            "Epoch 5/5\n",
            "1875/1875 [==============================] - 5s 3ms/step - loss: 0.0739 - accuracy: 0.9772\n",
            "GPU Time: 28.3310329914093 seconds\n",
            "Training on TPU...\n",
            "TPU not available:  Please provide a TPU Name to connect to.\n"
          ]
        }
      ]
    }
  ]
}